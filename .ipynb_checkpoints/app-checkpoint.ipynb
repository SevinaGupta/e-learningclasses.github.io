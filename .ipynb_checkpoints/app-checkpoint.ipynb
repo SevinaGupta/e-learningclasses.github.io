from flask import Flask,render_template,request,flash,session
from flask_sqlalchemy import SQLAlchemy
app =Flask(__name__)
app.config['SQLALCHEMY_DATABASE_URI']='sqlite:////C:/Users/Karan Gupta/Desktop/project/data.db'
db = SQLAlchemy(app)





class Sign(db.Model):
    id = db.Column(db.INTEGER, primary_key=True)
    userid = db.Column(db.TEXT(50))
    pas = db.Column(db.INTEGER())
    phone = db.Column(db.INTEGER())
    address = db.Column(db.TEXT(100)) 
    
    def __repr__(self):
        return self.userid
db.create_all()        



@app.route('/')
def home():
   return render_template('html.html')
@app.route('/frame')
def frame():
  return render_template('frame.html')  

@app.route('/login')
def login():
  return render_template('form.html')
@app.route('/frame',methods=['GET','POST'])
def form():
    if request.method == 'POST':
        user = request.form.get('UserId')
        pas = request.form.get('password')
        if (user=="nikhil@gmail.com"and pas=="123456"):
           print(user,pas)
           return render_template('frame.html')
        else:
        	return("user id and password are not correct!!!!!")
@app.route('/signup')
def signup():
  return render_template('signup.html')

@app.route('/thankyou',methods=["GET","POST"]) 
def signin():
  if request.method == 'POST':
    userid = request.form.get('userid')
    pas = request.form.get('password')
    phone = request.form.get('phoneno')
    address = request.form.get('add')
    if userid and pas:      # not none
     sob = Sign(userid=userid,pas=pas,phone=phone,address=address)
     db.session.add(sob)
     db.session.commit()       #prediction logic
     flash('THANKYOU FOR SIGN UP {{userid}}','success')
    
    else:
      flash('PLEASE FILL ALL REQUIRMENTS','danger')     
     #add data to model object
  else:
    flash('PLEASE FILL ALL REQUIRMENTS','danger')

if __name__ == '__main__':            
	app.run(debug=True)

#`pip install -r requirements.txt`

## to run app

#`flask db migrate`

#`flask db upgrade`

#`flask run`